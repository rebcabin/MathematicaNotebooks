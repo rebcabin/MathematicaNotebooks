{
 "cells": [
  {
   "cell_type": "markdown",
   "metadata": {},
   "source": [
    "## FAKE DATA"
   ]
  },
  {
   "cell_type": "code",
   "metadata": {
    "ExecuteTime": {
     "end_time": "2024-05-11T13:20:00.915040Z",
     "start_time": "2024-05-11T13:20:00.339144Z"
    }
   },
   "source": [
    "from __future__ import division\n",
    "import numpy as np\n",
    "\n",
    "zs = [-0.178654, 0.828305, 0.0592247, -0.0121089, -1.48014, \n",
    "      -0.315044, -0.324796, -0.676357, 0.16301, -0.858164]"
   ],
   "outputs": [],
   "execution_count": 16
  },
  {
   "cell_type": "markdown",
   "metadata": {},
   "source": [
    "Python's `reduce` takes the initial value in last position:"
   ]
  },
  {
   "cell_type": "code",
   "metadata": {
    "ExecuteTime": {
     "end_time": "2024-05-11T13:20:02.695333Z",
     "start_time": "2024-05-11T13:20:02.693778Z"
    }
   },
   "source": [
    "from functools import reduce"
   ],
   "outputs": [],
   "execution_count": 17
  },
  {
   "cell_type": "code",
   "metadata": {
    "ExecuteTime": {
     "end_time": "2024-05-11T13:20:02.942176Z",
     "start_time": "2024-05-11T13:20:02.939384Z"
    }
   },
   "source": [
    "reduce(lambda c, z: c + 1, zs, 0)"
   ],
   "outputs": [
    {
     "data": {
      "text/plain": [
       "10"
      ]
     },
     "execution_count": 18,
     "metadata": {},
     "output_type": "execute_result"
    }
   ],
   "execution_count": 18
  },
  {
   "cell_type": "code",
   "metadata": {
    "ExecuteTime": {
     "end_time": "2024-05-11T13:20:03.227648Z",
     "start_time": "2024-05-11T13:20:03.225250Z"
    }
   },
   "source": [
    "import toolz\n",
    "from toolz import accumulate"
   ],
   "outputs": [],
   "execution_count": 19
  },
  {
   "cell_type": "code",
   "metadata": {
    "ExecuteTime": {
     "end_time": "2024-05-11T13:20:03.623361Z",
     "start_time": "2024-05-11T13:20:03.620942Z"
    }
   },
   "source": [
    "list (accumulate (lambda c, z: c + 1, zs, 0))"
   ],
   "outputs": [
    {
     "data": {
      "text/plain": [
       "[0, 1, 2, 3, 4, 5, 6, 7, 8, 9, 10]"
      ]
     },
     "execution_count": 20,
     "metadata": {},
     "output_type": "execute_result"
    }
   ],
   "execution_count": 20
  },
  {
   "cell_type": "markdown",
   "metadata": {},
   "source": [
    "We don't have a direct counterpart for Let-Over-Lambda in Python, but classes come close, though they make us manage the names manually. The `attrs` package reduces boilerplate (`dunder` methods), making OOP more tolerable."
   ]
  },
  {
   "cell_type": "raw",
   "metadata": {},
   "source": [
    "%%bash\n",
    "pip install attrs -U"
   ]
  },
  {
   "cell_type": "code",
   "metadata": {
    "ExecuteTime": {
     "end_time": "2024-05-11T13:20:04.839021Z",
     "start_time": "2024-05-11T13:20:04.837518Z"
    }
   },
   "source": [
    "from attr import attrs, attrib, Factory"
   ],
   "outputs": [],
   "execution_count": 21
  },
  {
   "cell_type": "code",
   "metadata": {
    "slideshow": {
     "slide_type": "-"
    },
    "ExecuteTime": {
     "end_time": "2024-05-11T13:20:05.299931Z",
     "start_time": "2024-05-11T13:20:05.294873Z"
    }
   },
   "source": [
    "@attrs\n",
    "class StatsLol(object):\n",
    "    _initial_count = attrib(init=False, default=0)\n",
    "    _running_count = attrib(init=False, default=0)\n",
    "    def almost_a_lambda (self, c, z):\n",
    "        \"\"\"not thread-safe!\"\"\"\n",
    "        self._running_count = self._running_count + 1\n",
    "        return self._running_count\n",
    "    def run_count (self, zs):\n",
    "        return reduce (self.almost_a_lambda, zs, 0)\n",
    "    def all_counts (self, zs):\n",
    "        return list(accumulate (self.almost_a_lambda, zs, 0))\n",
    "StatsLol().all_counts(zs)"
   ],
   "outputs": [
    {
     "data": {
      "text/plain": [
       "[0, 1, 2, 3, 4, 5, 6, 7, 8, 9, 10]"
      ]
     },
     "execution_count": 22,
     "metadata": {},
     "output_type": "execute_result"
    }
   ],
   "execution_count": 22
  },
  {
   "cell_type": "markdown",
   "metadata": {},
   "source": [
    "Decouple the functionality from the means of accessing the data."
   ]
  },
  {
   "cell_type": "code",
   "metadata": {
    "ExecuteTime": {
     "end_time": "2024-05-11T13:20:06.245882Z",
     "start_time": "2024-05-11T13:20:06.242980Z"
    }
   },
   "source": [
    "@attrs\n",
    "class Stats(object):\n",
    "    _count = attrib(init=False, default=0)\n",
    "    def count (self, z):\n",
    "        \"\"\"not thread-safe!\"\"\"\n",
    "        self._count = self._count + 1\n",
    "        return self._count\n",
    "\n",
    "list(map(Stats().count, zs))"
   ],
   "outputs": [
    {
     "data": {
      "text/plain": [
       "[1, 2, 3, 4, 5, 6, 7, 8, 9, 10]"
      ]
     },
     "execution_count": 23,
     "metadata": {},
     "output_type": "execute_result"
    }
   ],
   "execution_count": 23
  },
  {
   "cell_type": "markdown",
   "metadata": {},
   "source": [
    "# RUNNING MEAN"
   ]
  },
  {
   "cell_type": "code",
   "metadata": {
    "ExecuteTime": {
     "end_time": "2024-05-11T13:20:12.860568Z",
     "start_time": "2024-05-11T13:20:12.855396Z"
    }
   },
   "source": [
    "@attrs\n",
    "class Stats(object):\n",
    "    _count = attrib(init=False, default=0)\n",
    "    _mean  = attrib(init=False, default=0)\n",
    "    def count (self, z):\n",
    "        \"\"\"not thread-safe!\"\"\"\n",
    "        n  = self._count\n",
    "        n1 = (n + 1)\n",
    "        K  = 1.0 / n1\n",
    "        self._count = n1\n",
    "        x  = self._mean\n",
    "        self._mean = (x + K*(z - x))\n",
    "        return self._mean\n",
    "\n",
    "list(map(Stats().count, zs))"
   ],
   "outputs": [
    {
     "data": {
      "text/plain": [
       "[-0.178654,\n",
       " 0.3248255,\n",
       " 0.2362919,\n",
       " 0.1741917,\n",
       " -0.15667464000000003,\n",
       " -0.18306953333333337,\n",
       " -0.20331617142857145,\n",
       " -0.262446275,\n",
       " -0.21517335555555556,\n",
       " -0.27947242]"
      ]
     },
     "execution_count": 24,
     "metadata": {},
     "output_type": "execute_result"
    }
   ],
   "execution_count": 24
  },
  {
   "cell_type": "code",
   "metadata": {
    "ExecuteTime": {
     "end_time": "2024-05-11T13:20:14.031344Z",
     "start_time": "2024-05-11T13:20:14.026662Z"
    }
   },
   "source": [
    "np.mean(zs)"
   ],
   "outputs": [
    {
     "data": {
      "text/plain": [
       "-0.27947241999999994"
      ]
     },
     "execution_count": 25,
     "metadata": {},
     "output_type": "execute_result"
    }
   ],
   "execution_count": 25
  },
  {
   "cell_type": "markdown",
   "metadata": {},
   "source": [
    "# STASH"
   ]
  },
  {
   "cell_type": "markdown",
   "metadata": {},
   "source": [
    "Stuff we don't need yet, but don't want to throw away yet."
   ]
  },
  {
   "cell_type": "raw",
   "metadata": {},
   "source": [
    "%%bash\n",
    "pip install rx -U"
   ]
  },
  {
   "cell_type": "code",
   "metadata": {
    "ExecuteTime": {
     "end_time": "2024-05-11T13:20:29.302530Z",
     "start_time": "2024-05-11T13:20:29.296626Z"
    }
   },
   "source": [
    "@attrs\n",
    "class Stats(object):\n",
    "    _count = attrib(init=False, default=0)\n",
    "    _mean  = attrib(init=False, default=0)\n",
    "    _ssqr  = attrib(init=False, default=0)\n",
    "    _varc  = attrib(init=False, default=0)\n",
    "    _stdv  = attrib(init=False, default=0)\n",
    "    def count (self, z):\n",
    "        \"\"\"not thread-safe!\"\"\"\n",
    "        n  = self._count\n",
    "        n1 = (n + 1)\n",
    "        K  = 1.0 / n1\n",
    "        self._count = n1\n",
    "        x  = self._mean\n",
    "        self._mean = (x + K*(z - x))\n",
    "        return self._mean\n",
    "\n",
    "list(map(Stats().count, zs))"
   ],
   "outputs": [
    {
     "data": {
      "text/plain": [
       "[-0.178654,\n",
       " 0.3248255,\n",
       " 0.2362919,\n",
       " 0.1741917,\n",
       " -0.15667464000000003,\n",
       " -0.18306953333333337,\n",
       " -0.20331617142857145,\n",
       " -0.262446275,\n",
       " -0.21517335555555556,\n",
       " -0.27947242]"
      ]
     },
     "execution_count": 26,
     "metadata": {},
     "output_type": "execute_result"
    }
   ],
   "execution_count": 26
  }
 ],
 "metadata": {
  "kernelspec": {
   "display_name": "Python 3",
   "language": "python",
   "name": "python3"
  },
  "language_info": {
   "codemirror_mode": {
    "name": "ipython",
    "version": 3
   },
   "file_extension": ".py",
   "mimetype": "text/x-python",
   "name": "python",
   "nbconvert_exporter": "python",
   "pygments_lexer": "ipython3",
   "version": "3.6.7"
  }
 },
 "nbformat": 4,
 "nbformat_minor": 2
}
